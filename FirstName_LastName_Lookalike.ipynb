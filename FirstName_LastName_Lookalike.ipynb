{
 "cells": [
  {
   "cell_type": "code",
   "execution_count": 1,
   "metadata": {},
   "outputs": [],
   "source": [
    "import pandas as pd\n",
    "import numpy as np\n",
    "from sklearn.preprocessing import StandardScaler, OneHotEncoder\n",
    "from sklearn.metrics.pairwise import cosine_similarity\n"
   ]
  },
  {
   "cell_type": "code",
   "execution_count": 2,
   "metadata": {},
   "outputs": [],
   "source": [
    "# Load datasets\n",
    "customers = pd.read_csv(\"Customers.csv\")\n",
    "products = pd.read_csv(\"Products.csv\")\n",
    "transactions = pd.read_csv(\"Transactions.csv\")\n"
   ]
  },
  {
   "cell_type": "code",
   "execution_count": 3,
   "metadata": {},
   "outputs": [],
   "source": [
    "# Merge data\n",
    "merged_df = transactions.merge(customers, on=\"CustomerID\").merge(products, on=\"ProductID\")\n"
   ]
  },
  {
   "cell_type": "code",
   "execution_count": 4,
   "metadata": {},
   "outputs": [],
   "source": [
    "# Aggregate customer data\n",
    "customer_profiles = merged_df.groupby(\"CustomerID\").agg({\n",
    "    \"TotalValue\": \"sum\",           # Total spending\n",
    "    \"TransactionID\": \"count\",      # Number of transactions\n",
    "    \"Price_x\": \"mean\",             # Average transactional price per purchase\n",
    "    \"Region\": \"first\",             # Region (assumes one region per customer)\n",
    "    \"Category\": lambda x: x.mode()[0],  # Most frequent category\n",
    "    \"TransactionDate\": \"max\"       # Most recent transaction date\n",
    "}).reset_index()\n",
    "\n",
    "# Rename columns for clarity\n",
    "customer_profiles.rename(columns={\n",
    "    \"TotalValue\": \"TotalSpending\",\n",
    "    \"TransactionID\": \"TransactionCount\",\n",
    "    \"Price_x\": \"AvgTransactionPrice\",\n",
    "}, inplace=True)\n"
   ]
  },
  {
   "cell_type": "code",
   "execution_count": 5,
   "metadata": {},
   "outputs": [
    {
     "name": "stdout",
     "output_type": "stream",
     "text": [
      "Customer Profiles:\n",
      "  CustomerID  TotalSpending  TransactionCount  AvgTransactionPrice  \\\n",
      "0      C0001        3354.52                 5           278.334000   \n",
      "1      C0002        1862.74                 4           208.920000   \n",
      "2      C0003        2725.38                 4           195.707500   \n",
      "3      C0004        5354.88                 8           240.636250   \n",
      "4      C0005        2034.24                 3           291.603333   \n",
      "\n",
      "          Region     Category      TransactionDate        CustomerName  \n",
      "0  South America  Electronics  2024-11-02 17:04:16    Lawrence Carroll  \n",
      "1           Asia     Clothing  2024-12-03 01:41:41      Elizabeth Lutz  \n",
      "2  South America   Home Decor  2024-08-24 18:54:04      Michael Rivera  \n",
      "3  South America        Books  2024-12-23 14:13:52  Kathleen Rodriguez  \n",
      "4           Asia  Electronics  2024-11-04 00:30:22         Laura Weber  \n"
     ]
    }
   ],
   "source": [
    "# Add CustomerName for reference\n",
    "customer_profiles = customer_profiles.merge(customers[[\"CustomerID\", \"CustomerName\"]], on=\"CustomerID\")\n",
    "\n",
    "# Inspect customer profiles\n",
    "print(\"Customer Profiles:\")\n",
    "print(customer_profiles.head())\n"
   ]
  },
  {
   "cell_type": "code",
   "execution_count": 6,
   "metadata": {},
   "outputs": [],
   "source": [
    "# One-hot encode categorical features: Region and Category\n",
    "encoder = OneHotEncoder(sparse_output=False, handle_unknown='ignore')  # Updated argument name\n",
    "categorical_features = encoder.fit_transform(customer_profiles[[\"Region\", \"Category\"]])\n",
    "\n",
    "# Correctly map feature names to the DataFrame columns\n",
    "categorical_feature_names = encoder.get_feature_names_out([\"Region\", \"Category\"])\n",
    "categorical_features_df = pd.DataFrame(categorical_features, columns=categorical_feature_names, index=customer_profiles.index)\n",
    "\n",
    "# Combine the encoded features back into the main dataset\n",
    "customer_profiles = pd.concat([customer_profiles, categorical_features_df], axis=1)\n"
   ]
  },
  {
   "cell_type": "code",
   "execution_count": 7,
   "metadata": {},
   "outputs": [],
   "source": [
    "# Normalize numerical features\n",
    "scaler = StandardScaler()\n",
    "numerical_features = scaler.fit_transform(customer_profiles[[\"TotalSpending\", \"TransactionCount\", \"AvgTransactionPrice\"]])\n",
    "\n",
    "# Combine numerical and categorical features\n",
    "combined_features = np.hstack([numerical_features, categorical_features])\n"
   ]
  },
  {
   "cell_type": "code",
   "execution_count": 8,
   "metadata": {},
   "outputs": [],
   "source": [
    "# Compute similarity matrix\n",
    "similarity_matrix = cosine_similarity(combined_features)\n",
    "\n",
    "# Convert similarity matrix to DataFrame for better readability\n",
    "similarity_df = pd.DataFrame(similarity_matrix, index=customer_profiles[\"CustomerID\"], columns=customer_profiles[\"CustomerID\"])\n"
   ]
  },
  {
   "cell_type": "code",
   "execution_count": 9,
   "metadata": {},
   "outputs": [],
   "source": [
    "# Display top 3 similar customers for each customer\n",
    "top_3_similar = {}\n",
    "for customer_id in similarity_df.index:\n",
    "    similar_customers = similarity_df.loc[customer_id].sort_values(ascending=False).iloc[1:4]  # Skip the first (self-similarity)\n",
    "    top_3_similar[customer_id] = list(zip(similar_customers.index, similar_customers.values))"
   ]
  },
  {
   "cell_type": "code",
   "execution_count": 17,
   "metadata": {},
   "outputs": [
    {
     "name": "stdout",
     "output_type": "stream",
     "text": [
      "Customer C0001:\n",
      "  Similar Customer C0181 with Score 0.94\n",
      "  Similar Customer C0192 with Score 0.87\n",
      "  Similar Customer C0190 with Score 0.85\n",
      "Customer C0002:\n",
      "  Similar Customer C0088 with Score 0.96\n",
      "  Similar Customer C0134 with Score 0.91\n",
      "  Similar Customer C0106 with Score 0.91\n",
      "Customer C0003:\n",
      "  Similar Customer C0025 with Score 0.96\n",
      "  Similar Customer C0031 with Score 0.93\n",
      "  Similar Customer C0052 with Score 0.92\n",
      "Customer C0004:\n",
      "  Similar Customer C0165 with Score 0.97\n",
      "  Similar Customer C0153 with Score 0.90\n",
      "  Similar Customer C0087 with Score 0.88\n",
      "Customer C0005:\n",
      "  Similar Customer C0140 with Score 0.98\n",
      "  Similar Customer C0186 with Score 0.98\n",
      "  Similar Customer C0007 with Score 0.90\n"
     ]
    }
   ],
   "source": [
    "# Prepare output as FirstName_LastName_Lookalike.csv for the first 20 customers (C0001 - C0020)\n",
    "lookalike_data = [{\"CustomerID\": cust_id, \"Lookalikes\": top_3_similar[cust_id]} \n",
    "                  for cust_id in list(top_3_similar.keys())[:20]]  # Limit to first 20 customers\n",
    "lookalike_df = pd.DataFrame(lookalike_data)\n",
    "\n",
    "# Save to CSV\n",
    "lookalike_df.to_csv(\"FirstName_LastName_Lookalike.csv\", index=False)\n",
    "\n",
    "# Display recommendations for the first 5 customers\n",
    "for cust_id, similar_customers in list(top_3_similar.items())[:5]:\n",
    "    print(f\"Customer {cust_id}:\")\n",
    "    for similar_cust_id, score in similar_customers:\n",
    "        print(f\"  Similar Customer {similar_cust_id} with Score {score:.2f}\")\n"
   ]
  }
 ],
 "metadata": {
  "kernelspec": {
   "display_name": "Python 3",
   "language": "python",
   "name": "python3"
  },
  "language_info": {
   "codemirror_mode": {
    "name": "ipython",
    "version": 3
   },
   "file_extension": ".py",
   "mimetype": "text/x-python",
   "name": "python",
   "nbconvert_exporter": "python",
   "pygments_lexer": "ipython3",
   "version": "3.12.4"
  }
 },
 "nbformat": 4,
 "nbformat_minor": 2
}
